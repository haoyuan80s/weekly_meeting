{
 "cells": [
  {
   "cell_type": "code",
   "execution_count": 76,
   "metadata": {
    "collapsed": true
   },
   "outputs": [],
   "source": [
    "import numpy as np\n",
    "from scipy.optimize import linprog"
   ]
  },
  {
   "cell_type": "markdown",
   "metadata": {},
   "source": [
    "In line (2), the OPT algorithm seems a open-loop algorithm. I wonder whether a closed-loop algorithm can beat it. (c.f. paper \"Dynamic Optimization of Mobile Push Adertising Campaigns\")"
   ]
  },
  {
   "cell_type": "code",
   "execution_count": 79,
   "metadata": {
    "collapsed": false
   },
   "outputs": [
    {
     "name": "stdout",
     "output_type": "stream",
     "text": [
      "Optimization terminated successfully.\n",
      "         Current function value: -0.800000   \n",
      "         Iterations: 4\n",
      "     fun: -0.80000000000000004\n",
      " message: 'Optimization terminated successfully.'\n",
      "     nit: 4\n",
      "   slack: array([ 1. ,  0.2])\n",
      "  status: 0\n",
      " success: True\n",
      "       x: array([ 0.,  1.,  0.,  1.])\n"
     ]
    }
   ],
   "source": [
    "#parameters\n",
    "m, n = 2,2\n",
    "c = np.zeros(m)\n",
    "P = np.zeros([n,m])\n",
    "r = np.zeros(n)\n",
    "\n",
    "r[0],r[1] = 1,1\n",
    "c[0],c[1] = 1,1\n",
    "P[0,0] = 0.4\n",
    "P[0,1] = 0.6\n",
    "P[1,0] = 0\n",
    "P[1,1] = 0.2\n",
    "S = np.array([ [0.5, 0.5], [0.5, 0.5] ])\n",
    "\n",
    "c = P.reshape(4)\n",
    "Ai = np.array([[P[0,0],0,P[1,0],0],[0,P[0,1],0,P[1,1]]])\n",
    "bi = c\n",
    "Ae = np.array([[1,1,0,0],[0,0,1,1]])\n",
    "bi = np.ones(2)\n",
    "\n",
    "# Solver\n",
    "res = linprog(-c, A_ub=Ai, b_ub=bi, A_eq = Ae, b_eq = bi,options={\"disp\": True})\n",
    "print(res)"
   ]
  },
  {
   "cell_type": "markdown",
   "metadata": {},
   "source": [
    "The opt with assign massage 1 to both user 0 and 1, which is open-loop optimal, but not optimal in closed-loop case."
   ]
  }
 ],
 "metadata": {
  "kernelspec": {
   "display_name": "Python 3",
   "language": "python",
   "name": "python3"
  },
  "language_info": {
   "codemirror_mode": {
    "name": "ipython",
    "version": 3
   },
   "file_extension": ".py",
   "mimetype": "text/x-python",
   "name": "python",
   "nbconvert_exporter": "python",
   "pygments_lexer": "ipython3",
   "version": "3.5.1"
  }
 },
 "nbformat": 4,
 "nbformat_minor": 0
}
