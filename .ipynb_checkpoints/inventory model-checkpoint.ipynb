{
 "cells": [
  {
   "cell_type": "code",
   "execution_count": 1,
   "metadata": {
    "collapsed": true
   },
   "outputs": [],
   "source": [
    "%matplotlib inline\n",
    "\n",
    "import matplotlib\n",
    "import numpy as np\n",
    "import matplotlib.pyplot as plt"
   ]
  },
  {
   "cell_type": "code",
   "execution_count": 2,
   "metadata": {
    "collapsed": false
   },
   "outputs": [],
   "source": [
    "# parameters\n",
    "gamma = 0.9\n",
    "h = 3\n",
    "b = 10\n",
    "T = 20\n",
    "def w():\n",
    "    return np.random.randint(0,6)\n",
    "\n",
    "class agent:\n",
    "    def __init__(self,initial_inv):\n",
    "        self.state = initial_inv\n",
    "        self.total_cost = 0\n",
    "    def transition(self, action):\n",
    "        '''(state,action) -> newstate, cost'''\n",
    "        self.state = self.state + action - w()\n",
    "        cost = h*max(0,self.state) + b*max(0,-self.state)  \n",
    "        self.total_cost += cost\n",
    "    def policy(self, state):\n",
    "        '''policy is a (random) function: state -> action'''\n",
    "        base = 4 # base-stock policy\n",
    "        return max(0,base - state)\n",
    "      "
   ]
  },
  {
   "cell_type": "code",
   "execution_count": 3,
   "metadata": {
    "collapsed": false
   },
   "outputs": [],
   "source": [
    "def inter():\n",
    "    MM = agent(initial_inv=10)\n",
    "    #costs = []\n",
    "    for t in range(10):\n",
    "        MM.transition(MM.policy(MM.state))\n",
    "    #    costs.append(MM.total_cost)\n",
    "    #plt.plot(costs)\n",
    "    return MM.total_cost"
   ]
  },
  {
   "cell_type": "code",
   "execution_count": 4,
   "metadata": {
    "collapsed": false
   },
   "outputs": [
    {
     "data": {
      "text/plain": [
       "11.5"
      ]
     },
     "execution_count": 4,
     "metadata": {},
     "output_type": "execute_result"
    }
   ],
   "source": [
    "# policy iteration\n",
    "J = np.random.rand(10) * 10\n",
    "W = np.array([0,1,2,3,4,5])\n",
    "F_D = np.ones(6) / 6\n",
    "def g(x,u,w):\n",
    "    ns = x + u - w\n",
    "    return h*np.maximum(0,ns) + b*np.maximum(0,-ns)\n",
    "\n",
    "def f(x,u,w):\n",
    "    return x + u - w\n",
    "\n",
    "for w in W:\n",
    "    "
   ]
  },
  {
   "cell_type": "code",
   "execution_count": 95,
   "metadata": {
    "collapsed": false
   },
   "outputs": [
    {
     "data": {
      "text/plain": [
       "array([2, 2])"
      ]
     },
     "execution_count": 95,
     "metadata": {},
     "output_type": "execute_result"
    }
   ],
   "source": [
    "D = np.array([1,2])\n",
    "s = 2\n",
    "D - s\n",
    "np.maximum(D,s)"
   ]
  }
 ],
 "metadata": {
  "kernelspec": {
   "display_name": "Python 3",
   "language": "python",
   "name": "python3"
  },
  "language_info": {
   "codemirror_mode": {
    "name": "ipython",
    "version": 3
   },
   "file_extension": ".py",
   "mimetype": "text/x-python",
   "name": "python",
   "nbconvert_exporter": "python",
   "pygments_lexer": "ipython3",
   "version": "3.5.1"
  }
 },
 "nbformat": 4,
 "nbformat_minor": 0
}
